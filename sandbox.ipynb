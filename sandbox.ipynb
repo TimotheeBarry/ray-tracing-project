{
 "cells": [
  {
   "cell_type": "code",
   "execution_count": 1,
   "metadata": {},
   "outputs": [
    {
     "name": "stdout",
     "output_type": "stream",
     "text": [
      "-0.4730479472124746 -0.6223431486725631 -1.4951007485700234\n"
     ]
    }
   ],
   "source": [
    "import random\n",
    "\n",
    "x = random.gauss(0, 1)\n",
    "y = random.gauss(0, 1)\n",
    "z = random.gauss(0, 1)\n",
    "\n",
    "print(x, y, z)"
   ]
  },
  {
   "cell_type": "code",
   "execution_count": 83,
   "metadata": {},
   "outputs": [
    {
     "name": "stdout",
     "output_type": "stream",
     "text": [
      "35.61252764211042\n"
     ]
    }
   ],
   "source": [
    "import numpy as np\n",
    "N = 10000\n",
    "f = lambda x,y,z : np.cos(x*y*z)\n",
    "\n",
    "def get_random_number(borne_inf, borne_sup):\n",
    "    x = random.gauss(0,1)\n",
    "    while x < borne_inf or x > borne_sup:\n",
    "        x = random.gauss(0,1)\n",
    "    return x\n",
    "    \n",
    "\n",
    "I = 0\n",
    "for i in range(N):\n",
    "    x = get_random_number(-np.pi/2, np.pi/2) \n",
    "    y = get_random_number(-np.pi/2, np.pi/2)\n",
    "    z = get_random_number(-np.pi/2, np.pi/2)\n",
    "   \n",
    "    px = np.exp(-x**2/2)/np.sqrt(2*np.pi)\n",
    "    py = np.exp(-y**2/2)/np.sqrt(2*np.pi)\n",
    "    pz = np.exp(-z**2/2)/np.sqrt(2*np.pi)\n",
    "    I += f(x,y,z)/(px * py * pz)\n",
    "I /= N\n",
    "\n",
    "print(I)"
   ]
  }
 ],
 "metadata": {
  "kernelspec": {
   "display_name": "base",
   "language": "python",
   "name": "python3"
  },
  "language_info": {
   "codemirror_mode": {
    "name": "ipython",
    "version": 3
   },
   "file_extension": ".py",
   "mimetype": "text/x-python",
   "name": "python",
   "nbconvert_exporter": "python",
   "pygments_lexer": "ipython3",
   "version": "3.11.5"
  }
 },
 "nbformat": 4,
 "nbformat_minor": 2
}
